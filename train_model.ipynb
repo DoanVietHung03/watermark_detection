{
 "cells": [
  {
   "cell_type": "code",
   "execution_count": 42,
   "metadata": {},
   "outputs": [],
   "source": [
    "from PIL import ImageFile\n",
    "ImageFile.LOAD_TRUNCATED_IMAGES = True"
   ]
  },
  {
   "cell_type": "code",
   "execution_count": 43,
   "metadata": {},
   "outputs": [],
   "source": [
    "from convnext import *\n",
    "\n",
    "# Thư viện PyTorch cho việc xây dựng và huấn luyện mạng nơ-ron\n",
    "import torch.nn as nn  # Các module, class và hàm tính toán trong PyTorch\n",
    "import torch.optim as optim  # Thuật toán tối ưu hóa cho việc cập nhật trọng số của mạng\n",
    "from torch.utils.data import DataLoader  # Cung cấp DataLoader để tải dữ liệu\n",
    "import torch  # Thư viện cơ bản của PyTorch, chứa các cấu trúc dữ liệu và hàm tính toán trên tensor\n",
    "\n",
    "# Thư viện torchvision cho xử lý ảnh\n",
    "from torchvision import transforms  # Các phép biến đổi dữ liệu ảnh\n",
    "from torchvision.datasets import ImageFolder  # Dataset từ các thư mục chứa ảnh\n",
    "\n",
    "# Thư viện hỗ trợ tương tác với hệ thống file và thư mục\n",
    "import os\n"
   ]
  },
  {
   "cell_type": "code",
   "execution_count": 44,
   "metadata": {},
   "outputs": [],
   "source": [
    "# Kiểm tra xem GPU có sẵn không\n",
    "device = torch.device('cuda' if torch.cuda.is_available() else 'cpu')"
   ]
  },
  {
   "cell_type": "code",
   "execution_count": 45,
   "metadata": {},
   "outputs": [],
   "source": [
    "# Đường dẫn tới thư mục chứa dữ liệu\n",
    "base_dir = '../data'"
   ]
  },
  {
   "cell_type": "code",
   "execution_count": 46,
   "metadata": {},
   "outputs": [],
   "source": [
    "# Định nghĩa các phép biến đổi dữ liệu\n",
    "transform = transforms.Compose([\n",
    "    transforms.Resize((224, 224)),\n",
    "    transforms.ToTensor(),\n",
    "    transforms.Normalize(mean=[0.485, 0.456, 0.406], std=[0.229, 0.224, 0.225])\n",
    "])"
   ]
  },
  {
   "cell_type": "code",
   "execution_count": 47,
   "metadata": {},
   "outputs": [],
   "source": [
    "# Tạo dataset cho dữ liệu huấn luyện từ thư mục train_data\n",
    "train_data = ImageFolder(root=os.path.join(base_dir, 'train'), transform=transform)\n",
    "\n",
    "# Tạo dataset cho dữ liệu validation từ thư mục valid_data\n",
    "valid_data = ImageFolder(root=os.path.join(base_dir, 'valid'), transform=transform)"
   ]
  },
  {
   "cell_type": "code",
   "execution_count": 48,
   "metadata": {},
   "outputs": [],
   "source": [
    "# Sử dụng hàm Lambda để gán nhãn\n",
    "train_data.class_to_idx = {'no-watermark': 0, 'watermark': 1}\n",
    "train_data.targets = [label for _, label in train_data.samples]\n",
    "\n",
    "valid_data.class_to_idx = {'no-watermark': 0, 'watermark': 1}\n",
    "valid_data.targets = [label for _, label in valid_data.samples]"
   ]
  },
  {
   "cell_type": "code",
   "execution_count": 49,
   "metadata": {},
   "outputs": [],
   "source": [
    "batch_size = 50\n",
    "train_loader = DataLoader(train_data, batch_size=batch_size, shuffle=True)\n",
    "valid_loader = DataLoader(valid_data, batch_size=batch_size, shuffle=False)"
   ]
  },
  {
   "cell_type": "code",
   "execution_count": null,
   "metadata": {},
   "outputs": [],
   "source": [
    "def train_model(train_loader, valid_loader, model, num_epochs):\n",
    "    best_valid_accuracy = 0.0  # Khởi tạo biến lưu trữ valid_accuracy cao nhất\n",
    "\n",
    "    num_epochs = num_epochs\n",
    "\n",
    "    # Lặp qua từng epoch\n",
    "    for epoch in range(num_epochs):\n",
    "        # Khởi tạo các biến đếm\n",
    "        running_loss = 0.0\n",
    "        correct_train = 0\n",
    "        total_train = 0\n",
    "\n",
    "        # Lặp qua từng batch dữ liệu huấn luyện\n",
    "        for batch_data, batch_labels in train_loader:\n",
    "            # Chuyển dữ liệu và nhãn lên GPU\n",
    "            batch_data, batch_labels = batch_data.to(device), batch_labels.to(device)\n",
    "\n",
    "            # Xóa gradient của các tham số\n",
    "            optimizer.zero_grad()\n",
    "\n",
    "            # Đưa dữ liệu vào mô hình để tính toán output\n",
    "            outputs = model(batch_data)\n",
    "\n",
    "            # Tính toán giá trị loss\n",
    "            loss = criterion(outputs, batch_labels)\n",
    "\n",
    "            # Lan truyền ngược để tính gradient\n",
    "            loss.backward()\n",
    "\n",
    "            # Cập nhật trọng số của mô hình\n",
    "            optimizer.step()\n",
    "\n",
    "            # Tính toán training accuracy\n",
    "            _, predicted_train = torch.max(outputs, 1)\n",
    "            total_train += batch_labels.size(0)\n",
    "            correct_train += (predicted_train == batch_labels).sum().item()\n",
    "\n",
    "            # Cập nhật running loss\n",
    "            running_loss += loss.item()\n",
    "\n",
    "        # Đánh giá mô hình trên dữ liệu validation sau mỗi epoch\n",
    "        with torch.no_grad():\n",
    "            model.eval()\n",
    "            val_loss = 0.0\n",
    "            correct_val = 0\n",
    "            total_val = 0\n",
    "            for inputs_val, labels_val in valid_loader:\n",
    "                inputs_val, labels_val = inputs_val.to(device), labels_val.to(device)\n",
    "                outputs_val = model(inputs_val)\n",
    "                val_loss += criterion(outputs_val, labels_val).item()\n",
    "                _, predicted_val = torch.max(outputs_val, 1)\n",
    "                total_val += labels_val.size(0)\n",
    "                correct_val += (predicted_val == labels_val).sum().item()\n",
    "\n",
    "            # Tính toán valid_accuracy\n",
    "            valid_accuracy = 100 * correct_val / total_val\n",
    "\n",
    "            # Kiểm tra và lưu mô hình nếu valid_accuracy cao hơn\n",
    "            if valid_accuracy > best_valid_accuracy:\n",
    "                best_valid_accuracy = valid_accuracy\n",
    "                torch.save(model, 'improved_watermark_detection_model.pth')\n",
    "\n",
    "        # In ra kết quả sau mỗi epoch\n",
    "        print(f\"Epoch {epoch+1}/{num_epochs}, Training Loss: {running_loss/len(train_loader)}, Training Accuracy: {(100 * correct_train / total_train)}%, Validation Loss: {val_loss/len(valid_loader)}, Validation Accuracy: {valid_accuracy}%\")\n",
    "\n",
    "        # Chuyển lại sang chế độ huấn luyện\n",
    "        model.train()\n",
    "    \n",
    "    print(f\"best valid accuracy: {best_valid_accuracy}\")"
   ]
  },
  {
   "cell_type": "code",
   "execution_count": 50,
   "metadata": {},
   "outputs": [],
   "source": [
    "# Khởi tạo mô hình ConvNeXt\n",
    "model = convnext_tiny(pretrained=False, in_22k=False, num_classes = 2).to(device)\n",
    "\n",
    "# Chuyển mô hình vào chế độ huấn luyện\n",
    "model.train()\n",
    "\n",
    "# Chọn hàm loss và trình tối ưu hóa\n",
    "criterion = nn.CrossEntropyLoss()\n",
    "optimizer = optim.SGD(model.parameters(), lr=0.001, momentum=0.9)"
   ]
  },
  {
   "cell_type": "code",
   "execution_count": 51,
   "metadata": {},
   "outputs": [],
   "source": [
    "# Khởi tạo mô hình cải tiến\n",
    "model = convnext_tiny(pretrained=False, in_22k=False, num_classes=2).to(device)\n",
    "model.head = nn.Sequential( \n",
    "            nn.Linear(in_features=768, out_features=448),\n",
    "            nn.Dropout(0.25),\n",
    "            nn.Linear(in_features=448, out_features=2),\n",
    "        ).to(device)\n",
    "# Chuyển mô hình vào chế độ huấn luyện\n",
    "model.train()\n",
    "\n",
    "# Chọn hàm loss và trình tối ưu hóa\n",
    "criterion = nn.CrossEntropyLoss()\n",
    "optimizer = optim.SGD(model.parameters(), lr=0.001, momentum=0.9)"
   ]
  },
  {
   "cell_type": "code",
   "execution_count": null,
   "metadata": {},
   "outputs": [],
   "source": [
    "train_model(train_loader, valid_loader, model, 30)"
   ]
  }
 ],
 "metadata": {
  "kernelspec": {
   "display_name": "Python 3",
   "language": "python",
   "name": "python3"
  },
  "language_info": {
   "codemirror_mode": {
    "name": "ipython",
    "version": 3
   },
   "file_extension": ".py",
   "mimetype": "text/x-python",
   "name": "python",
   "nbconvert_exporter": "python",
   "pygments_lexer": "ipython3",
   "version": "3.10.11"
  }
 },
 "nbformat": 4,
 "nbformat_minor": 2
}
